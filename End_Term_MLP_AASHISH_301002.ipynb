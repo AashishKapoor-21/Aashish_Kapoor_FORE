{
 "cells": [
  {
   "cell_type": "markdown",
   "metadata": {},
   "source": [
    "Note: Utilize this Jupiter Notebook (End_Term_MLP.ipynb) file attached to perform the following tasks in Jupyter Notebook file. While submitting the file, the filename should be renamed as End_Term_MLP_<Name><Roll Number>.ipynb. The codes should be executed and the outputs should be visible. If the outputs are not present, the students will lose marks."
   ]
  },
  {
   "cell_type": "markdown",
   "metadata": {},
   "source": [
    "Q5.  The following set of questions can be answered using the dataset (classify_strains.csv) attached."
   ]
  },
  {
   "cell_type": "code",
   "execution_count": 1,
   "metadata": {},
   "outputs": [],
   "source": [
    "#Loading appropriate packages\n",
    "\n",
    "import pandas as pd\n",
    "import numpy as np\n",
    "\n",
    "# For OS related operations\n",
    "import os\n",
    "import matplotlib.pyplot as plt\n",
    "import seaborn as sns\n",
    "\n",
    "# Scale numeric data\n",
    "from sklearn.preprocessing import StandardScaler as ss\n",
    "\n",
    "# One hot encode data--Convert to dummy\n",
    "from sklearn.preprocessing import OneHotEncoder as ohe\n",
    "\n",
    "from sklearn.preprocessing import LabelEncoder\n",
    "\n",
    "# for data splitting\n",
    "from sklearn.model_selection import train_test_split\n",
    "\n",
    "\n",
    "#Reading the complete data\n",
    "from sklearn.tree import DecisionTreeClassifier \n",
    "from sklearn import tree\n",
    "###################### Random Forest ############################\n",
    "from sklearn.ensemble import RandomForestClassifier \n",
    "\n",
    "######### kNN ##############\n",
    "from sklearn.neighbors import KNeighborsClassifier\n",
    "\n",
    "\n",
    "\n",
    "from sklearn.metrics import classification_report\n",
    "\n"
   ]
  },
  {
   "cell_type": "markdown",
   "metadata": {},
   "source": [
    "Q5a. Read the file \"classify_strains.csv\" and check if the file is loaded properly by checking the last 3 rows.  [2 marks]"
   ]
  },
  {
   "cell_type": "code",
   "execution_count": 2,
   "metadata": {},
   "outputs": [],
   "source": [
    "df = pd.read_csv('/Users/Administrator/Desktop/MLP_220422/classify_strains.csv')"
   ]
  },
  {
   "cell_type": "code",
   "execution_count": 3,
   "metadata": {},
   "outputs": [
    {
     "data": {
      "text/html": [
       "<div>\n",
       "<style scoped>\n",
       "    .dataframe tbody tr th:only-of-type {\n",
       "        vertical-align: middle;\n",
       "    }\n",
       "\n",
       "    .dataframe tbody tr th {\n",
       "        vertical-align: top;\n",
       "    }\n",
       "\n",
       "    .dataframe thead th {\n",
       "        text-align: right;\n",
       "    }\n",
       "</style>\n",
       "<table border=\"1\" class=\"dataframe\">\n",
       "  <thead>\n",
       "    <tr style=\"text-align: right;\">\n",
       "      <th></th>\n",
       "      <th>Gender</th>\n",
       "      <th>Transmissibility</th>\n",
       "      <th>Impact_Chance</th>\n",
       "      <th>Potassium_content</th>\n",
       "    </tr>\n",
       "  </thead>\n",
       "  <tbody>\n",
       "    <tr>\n",
       "      <th>197</th>\n",
       "      <td>M</td>\n",
       "      <td>NORMAL</td>\n",
       "      <td>HIGH</td>\n",
       "      <td>9.894</td>\n",
       "    </tr>\n",
       "    <tr>\n",
       "      <th>198</th>\n",
       "      <td>M</td>\n",
       "      <td>NORMAL</td>\n",
       "      <td>NORMAL</td>\n",
       "      <td>14.020</td>\n",
       "    </tr>\n",
       "    <tr>\n",
       "      <th>199</th>\n",
       "      <td>F</td>\n",
       "      <td>LOW</td>\n",
       "      <td>NORMAL</td>\n",
       "      <td>11.349</td>\n",
       "    </tr>\n",
       "  </tbody>\n",
       "</table>\n",
       "</div>"
      ],
      "text/plain": [
       "    Gender Transmissibility Impact_Chance  Potassium_content\n",
       "197      M           NORMAL          HIGH              9.894\n",
       "198      M           NORMAL        NORMAL             14.020\n",
       "199      F              LOW        NORMAL             11.349"
      ]
     },
     "execution_count": 3,
     "metadata": {},
     "output_type": "execute_result"
    }
   ],
   "source": [
    "df.tail(3)"
   ]
  },
  {
   "cell_type": "markdown",
   "metadata": {},
   "source": [
    "Q5b. Check the dimensions of the dataframe (rows and columns).           [1 mark]"
   ]
  },
  {
   "cell_type": "code",
   "execution_count": 4,
   "metadata": {},
   "outputs": [
    {
     "name": "stdout",
     "output_type": "stream",
     "text": [
      "number of rows: 200\n",
      "number of columns:4\n"
     ]
    }
   ],
   "source": [
    "rows=max(df.count())\n",
    "col=len(df.columns)\n",
    "print(\"number of rows: {}\".format(rows))\n",
    "print(\"number of columns:{}\".format(col))"
   ]
  },
  {
   "cell_type": "code",
   "execution_count": 5,
   "metadata": {},
   "outputs": [
    {
     "name": "stdout",
     "output_type": "stream",
     "text": [
      "[nan, 36, 72, 27, 23, 40, 67, 87, 74, 84, 74, 59, 58, 92, 37, 90, 47, 52, 83, 52, 91, 78, 56, 85, 92, 53, 92, 83, 94, 73, 22, 33, 43, 25, 49, 59, 42, 67, 36, 30, 75, 25, 26, 33, 45, 77, 55, 94, 84, 84, 19, 75, 81, 24, 79, 84, 69, 23, 60, 88, 74, 50, 82, 18, 28, 66, 38, 75, 55, 76, 47, 75, 39, 34, 45, 26, 92, 80, 59, 63, 61]\n",
      "[27, 92, 92, 25, 75, 34, 90, 85, 55, 45, 49, 74, 94, 28, 75, 53, 25, 72, 61, 94, 84, 84, 63, 91, 88, 92, 92, 52, 79, 92, 36, 33, 38, 78, 30, 92, 67, 75, 26, 28, 58, 30, 55, 72, 79, 34, 69, 84, 80, 67, 52, 77, 75, 79, 60, 94, 49, 72, 52, 74, 33, 66, 45, 26, 83, 55, 26, 56, 87, 36, 67, 80, 55, 56, 90, 67, 81, 74, 38, 67, 72, 60, 80, 59, 83, 84, 84, 81, 75, 92, nan, 59, 74, 74, 92, 72, 45, 73, 49, 84, 75, 24, 66, 60, 39, 82, 79, 55, 59, 83, 33, 69, 92, 92, 26, 47, 42, 83, 75, 75, 74, 67, 69, nan, 63, 74, 91, 33, 36, 79, 56, 79, 40, 77, 92, 23, 76, 84, 40, 24, 63, 19, 47, 84, 59, 56, 75, 23, 34, 84, 49, 67, 94, 25, 59, 18, 53, 43, 92, 69, 59, 83, 92, 26, 52, 63, 23, 77, 92, 83, 52, 52, 26, 74, 92, 76, 25, 84, 26, 26, 90, 66, 24, 59, 69, 24, 73, 61, 38, 80, 67, 25, 78, 75, 82, 74, 67, 55, 38, 36]\n",
      "200\n"
     ]
    }
   ],
   "source": [
    "# Run this set of codes. Do not change anything in this code\n",
    "import random\n",
    "randlist = [np.NaN]\n",
    "for i in range(0,80):\n",
    "    n = random.randint(18,95)\n",
    "    randlist.append(n)\n",
    "print(randlist)\n",
    "\n",
    "age = []\n",
    "for i in range(0,200):\n",
    "    n=\"\"\n",
    "    for j in randlist:\n",
    "        n = random.choice(randlist)\n",
    "    age.append(n)\n",
    "print(age)\n",
    "print(len(age))"
   ]
  },
  {
   "cell_type": "markdown",
   "metadata": {},
   "source": [
    "Q5c. Add a new column in the dataframe named \"Age\" containing the values in the \"age\" array created above. Check if its correctly loaded.    [2 marks]"
   ]
  },
  {
   "cell_type": "code",
   "execution_count": 6,
   "metadata": {},
   "outputs": [
    {
     "data": {
      "text/html": [
       "<div>\n",
       "<style scoped>\n",
       "    .dataframe tbody tr th:only-of-type {\n",
       "        vertical-align: middle;\n",
       "    }\n",
       "\n",
       "    .dataframe tbody tr th {\n",
       "        vertical-align: top;\n",
       "    }\n",
       "\n",
       "    .dataframe thead th {\n",
       "        text-align: right;\n",
       "    }\n",
       "</style>\n",
       "<table border=\"1\" class=\"dataframe\">\n",
       "  <thead>\n",
       "    <tr style=\"text-align: right;\">\n",
       "      <th></th>\n",
       "      <th>Gender</th>\n",
       "      <th>Transmissibility</th>\n",
       "      <th>Impact_Chance</th>\n",
       "      <th>Potassium_content</th>\n",
       "      <th>Age</th>\n",
       "    </tr>\n",
       "  </thead>\n",
       "  <tbody>\n",
       "    <tr>\n",
       "      <th>0</th>\n",
       "      <td>F</td>\n",
       "      <td>HIGH</td>\n",
       "      <td>HIGH</td>\n",
       "      <td>25.355</td>\n",
       "      <td>27.0</td>\n",
       "    </tr>\n",
       "    <tr>\n",
       "      <th>1</th>\n",
       "      <td>M</td>\n",
       "      <td>LOW</td>\n",
       "      <td>HIGH</td>\n",
       "      <td>13.093</td>\n",
       "      <td>92.0</td>\n",
       "    </tr>\n",
       "    <tr>\n",
       "      <th>2</th>\n",
       "      <td>M</td>\n",
       "      <td>LOW</td>\n",
       "      <td>HIGH</td>\n",
       "      <td>10.114</td>\n",
       "      <td>92.0</td>\n",
       "    </tr>\n",
       "    <tr>\n",
       "      <th>3</th>\n",
       "      <td>F</td>\n",
       "      <td>NORMAL</td>\n",
       "      <td>HIGH</td>\n",
       "      <td>7.798</td>\n",
       "      <td>25.0</td>\n",
       "    </tr>\n",
       "    <tr>\n",
       "      <th>4</th>\n",
       "      <td>F</td>\n",
       "      <td>LOW</td>\n",
       "      <td>HIGH</td>\n",
       "      <td>18.043</td>\n",
       "      <td>75.0</td>\n",
       "    </tr>\n",
       "  </tbody>\n",
       "</table>\n",
       "</div>"
      ],
      "text/plain": [
       "  Gender Transmissibility Impact_Chance  Potassium_content   Age\n",
       "0      F             HIGH          HIGH             25.355  27.0\n",
       "1      M              LOW          HIGH             13.093  92.0\n",
       "2      M              LOW          HIGH             10.114  92.0\n",
       "3      F           NORMAL          HIGH              7.798  25.0\n",
       "4      F              LOW          HIGH             18.043  75.0"
      ]
     },
     "execution_count": 6,
     "metadata": {},
     "output_type": "execute_result"
    }
   ],
   "source": [
    "df['Age']=age\n",
    "df.head(5)"
   ]
  },
  {
   "cell_type": "markdown",
   "metadata": {},
   "source": [
    "Read this question carefully. Where ever you will find <RollNo> replace it with your own roll number and run the below given code. For Example, if its written like, \"<RollNo>_X\" and your roll number if \"F894\" it should be replaced as \"F894_X\""
   ]
  },
  {
   "cell_type": "code",
   "execution_count": 7,
   "metadata": {},
   "outputs": [
    {
     "name": "stdout",
     "output_type": "stream",
     "text": [
      "['301002_Y', '301002_Y', '301002_Y', '301002_Y', '301002_Z', '301002_A', '301002_Z', '301002_Y', '301002_Z', '301002_A', '301002_Y', '301002_Z', '301002_X', '301002_X', '301002_A', '301002_Z', '301002_Z', '301002_X', '301002_Y', '301002_X', '301002_A', '301002_Y', '301002_A', '301002_A', '301002_Y', '301002_Y', '301002_A', '301002_A', '301002_X', '301002_Y', '301002_A', '301002_X', '301002_A', '301002_X', '301002_X', '301002_Z', '301002_A', '301002_Z', '301002_A', '301002_Y', '301002_A', '301002_Y', '301002_A', '301002_A', '301002_X', '301002_X', '301002_Y', '301002_Z', '301002_X', '301002_A', '301002_Z', '301002_Z', '301002_Z', '301002_A', '301002_X', '301002_A', '301002_Z', '301002_A', '301002_Y', '301002_A', '301002_Y', '301002_A', '301002_A', '301002_Z', '301002_Y', '301002_Y', '301002_Y', '301002_Z', '301002_X', '301002_X', '301002_X', '301002_Z', '301002_Y', '301002_A', '301002_Z', '301002_X', '301002_X', '301002_A', '301002_A', '301002_Z', '301002_Z', '301002_Z', '301002_Y', '301002_A', '301002_Z', '301002_Y', '301002_A', '301002_Y', '301002_Z', '301002_Z', '301002_X', '301002_X', '301002_Y', '301002_X', '301002_X', '301002_Y', '301002_Z', '301002_Z', '301002_Z', '301002_Y', '301002_X', '301002_X', '301002_A', '301002_X', '301002_X', '301002_A', '301002_X', '301002_X', '301002_A', '301002_X', '301002_Y', '301002_Y', '301002_Z', '301002_A', '301002_Y', '301002_Z', '301002_Z', '301002_Y', '301002_X', '301002_A', '301002_Z', '301002_A', '301002_Z', '301002_A', '301002_X', '301002_X', '301002_A', '301002_Y', '301002_Y', '301002_X', '301002_X', '301002_Y', '301002_A', '301002_Z', '301002_A', '301002_Z', '301002_Y', '301002_X', '301002_Z', '301002_X', '301002_Y', '301002_Z', '301002_A', '301002_X', '301002_A', '301002_Z', '301002_X', '301002_A', '301002_Z', '301002_Y', '301002_Z', '301002_X', '301002_Z', '301002_A', '301002_Z', '301002_A', '301002_X', '301002_Y', '301002_Z', '301002_A', '301002_Y', '301002_Y', '301002_A', '301002_A', '301002_Z', '301002_X', '301002_Y', '301002_Y', '301002_Y', '301002_Y', '301002_X', '301002_A', '301002_Z', '301002_A', '301002_Z', '301002_X', '301002_A', '301002_Z', '301002_Z', '301002_A', '301002_Z', '301002_A', '301002_X', '301002_Z', '301002_X', '301002_A', '301002_Z', '301002_A', '301002_X', '301002_Z', '301002_A', '301002_Z', '301002_X', '301002_A', '301002_A', '301002_A', '301002_A', '301002_X', '301002_X', '301002_Z']\n",
      "200\n"
     ]
    }
   ],
   "source": [
    "#Execute the code given below\n",
    "list1 = [\"301002_X\", \"301002_Y\", \"301002_Z\", \"301002_A\"] #<RollNo> should be replaced with your roll number\n",
    "strain_class = []\n",
    "for i in range(0,200):\n",
    "    n=\"\"\n",
    "    for j in list1:\n",
    "        n = random.choice(list1)\n",
    "    strain_class.append(n)\n",
    "print(strain_class)\n",
    "print(len(strain_class))"
   ]
  },
  {
   "cell_type": "markdown",
   "metadata": {},
   "source": [
    "Q5d. Add a new column in the dataframe named \"Strain_Class\" containing the values in the \"strain_class\" array created above. Check if its correctly loaded.    [2 marks]"
   ]
  },
  {
   "cell_type": "code",
   "execution_count": 8,
   "metadata": {},
   "outputs": [
    {
     "data": {
      "text/html": [
       "<div>\n",
       "<style scoped>\n",
       "    .dataframe tbody tr th:only-of-type {\n",
       "        vertical-align: middle;\n",
       "    }\n",
       "\n",
       "    .dataframe tbody tr th {\n",
       "        vertical-align: top;\n",
       "    }\n",
       "\n",
       "    .dataframe thead th {\n",
       "        text-align: right;\n",
       "    }\n",
       "</style>\n",
       "<table border=\"1\" class=\"dataframe\">\n",
       "  <thead>\n",
       "    <tr style=\"text-align: right;\">\n",
       "      <th></th>\n",
       "      <th>Gender</th>\n",
       "      <th>Transmissibility</th>\n",
       "      <th>Impact_Chance</th>\n",
       "      <th>Potassium_content</th>\n",
       "      <th>Age</th>\n",
       "      <th>Strain_Class</th>\n",
       "    </tr>\n",
       "  </thead>\n",
       "  <tbody>\n",
       "    <tr>\n",
       "      <th>0</th>\n",
       "      <td>F</td>\n",
       "      <td>HIGH</td>\n",
       "      <td>HIGH</td>\n",
       "      <td>25.355</td>\n",
       "      <td>27.0</td>\n",
       "      <td>301002_Y</td>\n",
       "    </tr>\n",
       "    <tr>\n",
       "      <th>1</th>\n",
       "      <td>M</td>\n",
       "      <td>LOW</td>\n",
       "      <td>HIGH</td>\n",
       "      <td>13.093</td>\n",
       "      <td>92.0</td>\n",
       "      <td>301002_Y</td>\n",
       "    </tr>\n",
       "    <tr>\n",
       "      <th>2</th>\n",
       "      <td>M</td>\n",
       "      <td>LOW</td>\n",
       "      <td>HIGH</td>\n",
       "      <td>10.114</td>\n",
       "      <td>92.0</td>\n",
       "      <td>301002_Y</td>\n",
       "    </tr>\n",
       "    <tr>\n",
       "      <th>3</th>\n",
       "      <td>F</td>\n",
       "      <td>NORMAL</td>\n",
       "      <td>HIGH</td>\n",
       "      <td>7.798</td>\n",
       "      <td>25.0</td>\n",
       "      <td>301002_Y</td>\n",
       "    </tr>\n",
       "    <tr>\n",
       "      <th>4</th>\n",
       "      <td>F</td>\n",
       "      <td>LOW</td>\n",
       "      <td>HIGH</td>\n",
       "      <td>18.043</td>\n",
       "      <td>75.0</td>\n",
       "      <td>301002_Z</td>\n",
       "    </tr>\n",
       "  </tbody>\n",
       "</table>\n",
       "</div>"
      ],
      "text/plain": [
       "  Gender Transmissibility Impact_Chance  Potassium_content   Age Strain_Class\n",
       "0      F             HIGH          HIGH             25.355  27.0     301002_Y\n",
       "1      M              LOW          HIGH             13.093  92.0     301002_Y\n",
       "2      M              LOW          HIGH             10.114  92.0     301002_Y\n",
       "3      F           NORMAL          HIGH              7.798  25.0     301002_Y\n",
       "4      F              LOW          HIGH             18.043  75.0     301002_Z"
      ]
     },
     "execution_count": 8,
     "metadata": {},
     "output_type": "execute_result"
    }
   ],
   "source": [
    "df['Strain_Class']=strain_class\n",
    "df.head(5)"
   ]
  },
  {
   "cell_type": "markdown",
   "metadata": {},
   "source": [
    "Q5e. Check if there are any missing values in the data. If there are missing values remove them (omission).    [2 marks]"
   ]
  },
  {
   "cell_type": "code",
   "execution_count": 9,
   "metadata": {},
   "outputs": [
    {
     "data": {
      "text/plain": [
       "Gender               0\n",
       "Transmissibility     0\n",
       "Impact_Chance        1\n",
       "Potassium_content    3\n",
       "Age                  2\n",
       "Strain_Class         0\n",
       "dtype: int64"
      ]
     },
     "execution_count": 9,
     "metadata": {},
     "output_type": "execute_result"
    }
   ],
   "source": [
    "df.isna().sum()"
   ]
  },
  {
   "cell_type": "code",
   "execution_count": 10,
   "metadata": {},
   "outputs": [
    {
     "data": {
      "text/html": [
       "<div>\n",
       "<style scoped>\n",
       "    .dataframe tbody tr th:only-of-type {\n",
       "        vertical-align: middle;\n",
       "    }\n",
       "\n",
       "    .dataframe tbody tr th {\n",
       "        vertical-align: top;\n",
       "    }\n",
       "\n",
       "    .dataframe thead th {\n",
       "        text-align: right;\n",
       "    }\n",
       "</style>\n",
       "<table border=\"1\" class=\"dataframe\">\n",
       "  <thead>\n",
       "    <tr style=\"text-align: right;\">\n",
       "      <th></th>\n",
       "      <th>Gender</th>\n",
       "      <th>Transmissibility</th>\n",
       "      <th>Impact_Chance</th>\n",
       "      <th>Potassium_content</th>\n",
       "      <th>Age</th>\n",
       "      <th>Strain_Class</th>\n",
       "    </tr>\n",
       "  </thead>\n",
       "  <tbody>\n",
       "    <tr>\n",
       "      <th>0</th>\n",
       "      <td>F</td>\n",
       "      <td>HIGH</td>\n",
       "      <td>HIGH</td>\n",
       "      <td>25.355</td>\n",
       "      <td>27.0</td>\n",
       "      <td>301002_Y</td>\n",
       "    </tr>\n",
       "    <tr>\n",
       "      <th>1</th>\n",
       "      <td>M</td>\n",
       "      <td>LOW</td>\n",
       "      <td>HIGH</td>\n",
       "      <td>13.093</td>\n",
       "      <td>92.0</td>\n",
       "      <td>301002_Y</td>\n",
       "    </tr>\n",
       "    <tr>\n",
       "      <th>2</th>\n",
       "      <td>M</td>\n",
       "      <td>LOW</td>\n",
       "      <td>HIGH</td>\n",
       "      <td>10.114</td>\n",
       "      <td>92.0</td>\n",
       "      <td>301002_Y</td>\n",
       "    </tr>\n",
       "    <tr>\n",
       "      <th>3</th>\n",
       "      <td>F</td>\n",
       "      <td>NORMAL</td>\n",
       "      <td>HIGH</td>\n",
       "      <td>7.798</td>\n",
       "      <td>25.0</td>\n",
       "      <td>301002_Y</td>\n",
       "    </tr>\n",
       "    <tr>\n",
       "      <th>4</th>\n",
       "      <td>F</td>\n",
       "      <td>LOW</td>\n",
       "      <td>HIGH</td>\n",
       "      <td>18.043</td>\n",
       "      <td>75.0</td>\n",
       "      <td>301002_Z</td>\n",
       "    </tr>\n",
       "    <tr>\n",
       "      <th>...</th>\n",
       "      <td>...</td>\n",
       "      <td>...</td>\n",
       "      <td>...</td>\n",
       "      <td>...</td>\n",
       "      <td>...</td>\n",
       "      <td>...</td>\n",
       "    </tr>\n",
       "    <tr>\n",
       "      <th>195</th>\n",
       "      <td>F</td>\n",
       "      <td>LOW</td>\n",
       "      <td>HIGH</td>\n",
       "      <td>11.567</td>\n",
       "      <td>74.0</td>\n",
       "      <td>301002_A</td>\n",
       "    </tr>\n",
       "    <tr>\n",
       "      <th>196</th>\n",
       "      <td>M</td>\n",
       "      <td>LOW</td>\n",
       "      <td>HIGH</td>\n",
       "      <td>12.006</td>\n",
       "      <td>67.0</td>\n",
       "      <td>301002_A</td>\n",
       "    </tr>\n",
       "    <tr>\n",
       "      <th>197</th>\n",
       "      <td>M</td>\n",
       "      <td>NORMAL</td>\n",
       "      <td>HIGH</td>\n",
       "      <td>9.894</td>\n",
       "      <td>55.0</td>\n",
       "      <td>301002_X</td>\n",
       "    </tr>\n",
       "    <tr>\n",
       "      <th>198</th>\n",
       "      <td>M</td>\n",
       "      <td>NORMAL</td>\n",
       "      <td>NORMAL</td>\n",
       "      <td>14.020</td>\n",
       "      <td>38.0</td>\n",
       "      <td>301002_X</td>\n",
       "    </tr>\n",
       "    <tr>\n",
       "      <th>199</th>\n",
       "      <td>F</td>\n",
       "      <td>LOW</td>\n",
       "      <td>NORMAL</td>\n",
       "      <td>11.349</td>\n",
       "      <td>36.0</td>\n",
       "      <td>301002_Z</td>\n",
       "    </tr>\n",
       "  </tbody>\n",
       "</table>\n",
       "<p>194 rows × 6 columns</p>\n",
       "</div>"
      ],
      "text/plain": [
       "    Gender Transmissibility Impact_Chance  Potassium_content   Age  \\\n",
       "0        F             HIGH          HIGH             25.355  27.0   \n",
       "1        M              LOW          HIGH             13.093  92.0   \n",
       "2        M              LOW          HIGH             10.114  92.0   \n",
       "3        F           NORMAL          HIGH              7.798  25.0   \n",
       "4        F              LOW          HIGH             18.043  75.0   \n",
       "..     ...              ...           ...                ...   ...   \n",
       "195      F              LOW          HIGH             11.567  74.0   \n",
       "196      M              LOW          HIGH             12.006  67.0   \n",
       "197      M           NORMAL          HIGH              9.894  55.0   \n",
       "198      M           NORMAL        NORMAL             14.020  38.0   \n",
       "199      F              LOW        NORMAL             11.349  36.0   \n",
       "\n",
       "    Strain_Class  \n",
       "0       301002_Y  \n",
       "1       301002_Y  \n",
       "2       301002_Y  \n",
       "3       301002_Y  \n",
       "4       301002_Z  \n",
       "..           ...  \n",
       "195     301002_A  \n",
       "196     301002_A  \n",
       "197     301002_X  \n",
       "198     301002_X  \n",
       "199     301002_Z  \n",
       "\n",
       "[194 rows x 6 columns]"
      ]
     },
     "execution_count": 10,
     "metadata": {},
     "output_type": "execute_result"
    }
   ],
   "source": [
    "df=df.dropna()\n",
    "df"
   ]
  },
  {
   "cell_type": "code",
   "execution_count": 11,
   "metadata": {},
   "outputs": [
    {
     "data": {
      "text/plain": [
       "Gender               0\n",
       "Transmissibility     0\n",
       "Impact_Chance        0\n",
       "Potassium_content    0\n",
       "Age                  0\n",
       "Strain_Class         0\n",
       "dtype: int64"
      ]
     },
     "execution_count": 11,
     "metadata": {},
     "output_type": "execute_result"
    }
   ],
   "source": [
    "df.isna().sum() #cross checking the omission"
   ]
  },
  {
   "cell_type": "markdown",
   "metadata": {},
   "source": [
    "Q5f. Group the Age column into different age groups using 3 bins (\"young\",\"middle-aged\",\"aged\"). Name the column as \"Age_cat\" (Utilize the function 'cut' in pandas)     [3 marks]"
   ]
  },
  {
   "cell_type": "code",
   "execution_count": 12,
   "metadata": {},
   "outputs": [
    {
     "data": {
      "text/html": [
       "<div>\n",
       "<style scoped>\n",
       "    .dataframe tbody tr th:only-of-type {\n",
       "        vertical-align: middle;\n",
       "    }\n",
       "\n",
       "    .dataframe tbody tr th {\n",
       "        vertical-align: top;\n",
       "    }\n",
       "\n",
       "    .dataframe thead th {\n",
       "        text-align: right;\n",
       "    }\n",
       "</style>\n",
       "<table border=\"1\" class=\"dataframe\">\n",
       "  <thead>\n",
       "    <tr style=\"text-align: right;\">\n",
       "      <th></th>\n",
       "      <th>Gender</th>\n",
       "      <th>Transmissibility</th>\n",
       "      <th>Impact_Chance</th>\n",
       "      <th>Potassium_content</th>\n",
       "      <th>Age</th>\n",
       "      <th>Strain_Class</th>\n",
       "      <th>Age_cat</th>\n",
       "    </tr>\n",
       "  </thead>\n",
       "  <tbody>\n",
       "    <tr>\n",
       "      <th>0</th>\n",
       "      <td>F</td>\n",
       "      <td>HIGH</td>\n",
       "      <td>HIGH</td>\n",
       "      <td>25.355</td>\n",
       "      <td>27.0</td>\n",
       "      <td>301002_Y</td>\n",
       "      <td>young</td>\n",
       "    </tr>\n",
       "    <tr>\n",
       "      <th>1</th>\n",
       "      <td>M</td>\n",
       "      <td>LOW</td>\n",
       "      <td>HIGH</td>\n",
       "      <td>13.093</td>\n",
       "      <td>92.0</td>\n",
       "      <td>301002_Y</td>\n",
       "      <td>aged</td>\n",
       "    </tr>\n",
       "    <tr>\n",
       "      <th>2</th>\n",
       "      <td>M</td>\n",
       "      <td>LOW</td>\n",
       "      <td>HIGH</td>\n",
       "      <td>10.114</td>\n",
       "      <td>92.0</td>\n",
       "      <td>301002_Y</td>\n",
       "      <td>aged</td>\n",
       "    </tr>\n",
       "    <tr>\n",
       "      <th>3</th>\n",
       "      <td>F</td>\n",
       "      <td>NORMAL</td>\n",
       "      <td>HIGH</td>\n",
       "      <td>7.798</td>\n",
       "      <td>25.0</td>\n",
       "      <td>301002_Y</td>\n",
       "      <td>young</td>\n",
       "    </tr>\n",
       "    <tr>\n",
       "      <th>4</th>\n",
       "      <td>F</td>\n",
       "      <td>LOW</td>\n",
       "      <td>HIGH</td>\n",
       "      <td>18.043</td>\n",
       "      <td>75.0</td>\n",
       "      <td>301002_Z</td>\n",
       "      <td>aged</td>\n",
       "    </tr>\n",
       "  </tbody>\n",
       "</table>\n",
       "</div>"
      ],
      "text/plain": [
       "  Gender Transmissibility Impact_Chance  Potassium_content   Age Strain_Class  \\\n",
       "0      F             HIGH          HIGH             25.355  27.0     301002_Y   \n",
       "1      M              LOW          HIGH             13.093  92.0     301002_Y   \n",
       "2      M              LOW          HIGH             10.114  92.0     301002_Y   \n",
       "3      F           NORMAL          HIGH              7.798  25.0     301002_Y   \n",
       "4      F              LOW          HIGH             18.043  75.0     301002_Z   \n",
       "\n",
       "  Age_cat  \n",
       "0   young  \n",
       "1    aged  \n",
       "2    aged  \n",
       "3   young  \n",
       "4    aged  "
      ]
     },
     "execution_count": 12,
     "metadata": {},
     "output_type": "execute_result"
    }
   ],
   "source": [
    "df['Age_cat']=pd.cut(x=df['Age'],bins=3,labels=['young','middle-aged','aged'])\n",
    "df.head(5)"
   ]
  },
  {
   "cell_type": "markdown",
   "metadata": {},
   "source": [
    "Q5g. Remove the column \"Age\".       [1 mark]"
   ]
  },
  {
   "cell_type": "code",
   "execution_count": 13,
   "metadata": {},
   "outputs": [
    {
     "data": {
      "text/html": [
       "<div>\n",
       "<style scoped>\n",
       "    .dataframe tbody tr th:only-of-type {\n",
       "        vertical-align: middle;\n",
       "    }\n",
       "\n",
       "    .dataframe tbody tr th {\n",
       "        vertical-align: top;\n",
       "    }\n",
       "\n",
       "    .dataframe thead th {\n",
       "        text-align: right;\n",
       "    }\n",
       "</style>\n",
       "<table border=\"1\" class=\"dataframe\">\n",
       "  <thead>\n",
       "    <tr style=\"text-align: right;\">\n",
       "      <th></th>\n",
       "      <th>Gender</th>\n",
       "      <th>Transmissibility</th>\n",
       "      <th>Impact_Chance</th>\n",
       "      <th>Potassium_content</th>\n",
       "      <th>Strain_Class</th>\n",
       "      <th>Age_cat</th>\n",
       "    </tr>\n",
       "  </thead>\n",
       "  <tbody>\n",
       "    <tr>\n",
       "      <th>0</th>\n",
       "      <td>F</td>\n",
       "      <td>HIGH</td>\n",
       "      <td>HIGH</td>\n",
       "      <td>25.355</td>\n",
       "      <td>301002_Y</td>\n",
       "      <td>young</td>\n",
       "    </tr>\n",
       "    <tr>\n",
       "      <th>1</th>\n",
       "      <td>M</td>\n",
       "      <td>LOW</td>\n",
       "      <td>HIGH</td>\n",
       "      <td>13.093</td>\n",
       "      <td>301002_Y</td>\n",
       "      <td>aged</td>\n",
       "    </tr>\n",
       "    <tr>\n",
       "      <th>2</th>\n",
       "      <td>M</td>\n",
       "      <td>LOW</td>\n",
       "      <td>HIGH</td>\n",
       "      <td>10.114</td>\n",
       "      <td>301002_Y</td>\n",
       "      <td>aged</td>\n",
       "    </tr>\n",
       "  </tbody>\n",
       "</table>\n",
       "</div>"
      ],
      "text/plain": [
       "  Gender Transmissibility Impact_Chance  Potassium_content Strain_Class  \\\n",
       "0      F             HIGH          HIGH             25.355     301002_Y   \n",
       "1      M              LOW          HIGH             13.093     301002_Y   \n",
       "2      M              LOW          HIGH             10.114     301002_Y   \n",
       "\n",
       "  Age_cat  \n",
       "0   young  \n",
       "1    aged  \n",
       "2    aged  "
      ]
     },
     "execution_count": 13,
     "metadata": {},
     "output_type": "execute_result"
    }
   ],
   "source": [
    "df=df.drop([\"Age\"],axis=1)\n",
    "df.head(3)"
   ]
  },
  {
   "cell_type": "markdown",
   "metadata": {},
   "source": [
    "Q5h. Standardize/Normalize the numeric column(s) and encode the categorical columns. The target variable (Strain_Class) should be label encoded.     [6 marks]"
   ]
  },
  {
   "cell_type": "code",
   "execution_count": 14,
   "metadata": {},
   "outputs": [],
   "source": [
    "df['Gender'] = df['Gender'].replace({'F':1, 'M':2})\n",
    "df['Transmissibility'] = df['Transmissibility'].replace({'HIGH':1,'NORMAL':2, 'LOW':3})\n",
    "df['Impact_Chance'] = df['Impact_Chance'].replace({'HIGH':1, 'NORMAL':2,'LOW':3})\n",
    "df['Strain_Class'] = df['Strain_Class'].replace({'301002_X':1, '301002_Y':2,'301002_Z':3,'301002_A':4})\n",
    "df['Age_cat'] = df['Age_cat'].replace({'young':1, 'middle-aged':2,'aged':3})"
   ]
  },
  {
   "cell_type": "code",
   "execution_count": 15,
   "metadata": {},
   "outputs": [
    {
     "data": {
      "text/html": [
       "<div>\n",
       "<style scoped>\n",
       "    .dataframe tbody tr th:only-of-type {\n",
       "        vertical-align: middle;\n",
       "    }\n",
       "\n",
       "    .dataframe tbody tr th {\n",
       "        vertical-align: top;\n",
       "    }\n",
       "\n",
       "    .dataframe thead th {\n",
       "        text-align: right;\n",
       "    }\n",
       "</style>\n",
       "<table border=\"1\" class=\"dataframe\">\n",
       "  <thead>\n",
       "    <tr style=\"text-align: right;\">\n",
       "      <th></th>\n",
       "      <th>Gender</th>\n",
       "      <th>Transmissibility</th>\n",
       "      <th>Impact_Chance</th>\n",
       "      <th>Potassium_content</th>\n",
       "      <th>Strain_Class</th>\n",
       "      <th>Age_cat</th>\n",
       "    </tr>\n",
       "  </thead>\n",
       "  <tbody>\n",
       "    <tr>\n",
       "      <th>0</th>\n",
       "      <td>1</td>\n",
       "      <td>1</td>\n",
       "      <td>1</td>\n",
       "      <td>25.355</td>\n",
       "      <td>2</td>\n",
       "      <td>1</td>\n",
       "    </tr>\n",
       "    <tr>\n",
       "      <th>1</th>\n",
       "      <td>2</td>\n",
       "      <td>3</td>\n",
       "      <td>1</td>\n",
       "      <td>13.093</td>\n",
       "      <td>2</td>\n",
       "      <td>3</td>\n",
       "    </tr>\n",
       "    <tr>\n",
       "      <th>2</th>\n",
       "      <td>2</td>\n",
       "      <td>3</td>\n",
       "      <td>1</td>\n",
       "      <td>10.114</td>\n",
       "      <td>2</td>\n",
       "      <td>3</td>\n",
       "    </tr>\n",
       "    <tr>\n",
       "      <th>3</th>\n",
       "      <td>1</td>\n",
       "      <td>2</td>\n",
       "      <td>1</td>\n",
       "      <td>7.798</td>\n",
       "      <td>2</td>\n",
       "      <td>1</td>\n",
       "    </tr>\n",
       "    <tr>\n",
       "      <th>4</th>\n",
       "      <td>1</td>\n",
       "      <td>3</td>\n",
       "      <td>1</td>\n",
       "      <td>18.043</td>\n",
       "      <td>3</td>\n",
       "      <td>3</td>\n",
       "    </tr>\n",
       "  </tbody>\n",
       "</table>\n",
       "</div>"
      ],
      "text/plain": [
       "   Gender  Transmissibility  Impact_Chance  Potassium_content  Strain_Class  \\\n",
       "0       1                 1              1             25.355             2   \n",
       "1       2                 3              1             13.093             2   \n",
       "2       2                 3              1             10.114             2   \n",
       "3       1                 2              1              7.798             2   \n",
       "4       1                 3              1             18.043             3   \n",
       "\n",
       "   Age_cat  \n",
       "0        1  \n",
       "1        3  \n",
       "2        3  \n",
       "3        1  \n",
       "4        3  "
      ]
     },
     "execution_count": 15,
     "metadata": {},
     "output_type": "execute_result"
    }
   ],
   "source": [
    "df.head(5)"
   ]
  },
  {
   "cell_type": "code",
   "execution_count": 16,
   "metadata": {},
   "outputs": [
    {
     "data": {
      "text/plain": [
       "array([[-1.05294618, -1.11532674, -0.98974332,  1.26878566, -0.52767285,\n",
       "        -1.53167997],\n",
       "       [ 0.94971616,  1.26240279, -0.98974332, -0.41206968, -0.52767285,\n",
       "         0.93426123],\n",
       "       [ 0.94971616,  1.26240279, -0.98974332, -0.82042624, -0.52767285,\n",
       "         0.93426123],\n",
       "       ...,\n",
       "       [ 0.94971616,  0.07353803, -0.98974332, -0.85058348, -1.41783401,\n",
       "        -0.29870937],\n",
       "       [ 0.94971616,  0.07353803,  1.01036297, -0.28499801, -1.41783401,\n",
       "        -1.53167997],\n",
       "       [-1.05294618,  1.26240279,  1.01036297, -0.65113441,  0.36248831,\n",
       "        -1.53167997]])"
      ]
     },
     "execution_count": 16,
     "metadata": {},
     "output_type": "execute_result"
    }
   ],
   "source": [
    "sc=ss()\n",
    "df_scaled=sc.fit_transform(df)\n",
    "df_scaled"
   ]
  },
  {
   "cell_type": "markdown",
   "metadata": {},
   "source": [
    "Q5i. Form a heatmap to visualize correlation between different columns. State your interpretation.              [4 marks]"
   ]
  },
  {
   "cell_type": "code",
   "execution_count": 17,
   "metadata": {},
   "outputs": [
    {
     "data": {
      "text/plain": [
       "<AxesSubplot:>"
      ]
     },
     "execution_count": 17,
     "metadata": {},
     "output_type": "execute_result"
    },
    {
     "data": {
      "image/png": "[encoded data removed]",
      "text/plain": [
       "<Figure size 432x288 with 2 Axes>"
      ]
     },
     "metadata": {
      "needs_background": "light"
     },
     "output_type": "display_data"
    }
   ],
   "source": [
    "sns.heatmap(df.corr())"
   ]
  },
  {
   "cell_type": "markdown",
   "metadata": {},
   "source": [
    "INTERPRETATION\n",
    "\n",
    "A heat-map is a grid of coloured squares that depicts the values for the first variable of interest (such as rainfall, temperature, or sensor data) across dual-axis variables. Each cell's various colours represent the value of the first variable in the relevant cell range. Each cell displays a numeric count, similar to correlation values in a normal data table. The patterns present can be predicted by studying the cell colour variation. As a result, heat maps aid in the discovery of data collinearity. A heat map is a visual representation of event occurrences or densities. For our heat-maps, we'll use the Kernel Density Estimation (KDE) algorithm. Other kernel forms, such as Gaussian, Triweight, Epanechnikov, and Triangular, are also available and can be employed."
   ]
  },
  {
   "cell_type": "markdown",
   "metadata": {
    "collapsed": true
   },
   "source": [
    "Q5j. Create a bar-graph/column chart to figure out how many people belong to each age category.        [3 marks]"
   ]
  },
  {
   "cell_type": "code",
   "execution_count": 18,
   "metadata": {},
   "outputs": [
    {
     "data": {
      "image/png": "[encoded data removed]",
      "text/plain": [
       "<Figure size 432x288 with 1 Axes>"
      ]
     },
     "metadata": {
      "needs_background": "light"
     },
     "output_type": "display_data"
    }
   ],
   "source": [
    "no_of_young=df[df['Age_cat'] == 1]['Age_cat'].count()\n",
    "no_of_midaged=df[df['Age_cat'] == 2]['Age_cat'].count()\n",
    "no_of_aged=df[df['Age_cat'] == 3]['Age_cat'].count()\n",
    "Age_cat=['Young','Middle_aged','Aged']\n",
    "k = [no_of_young,no_of_midaged,no_of_aged] \n",
    "plt.bar(Age_cat,k) \n",
    "plt.xlabel('Age_Category', fontsize = 10) \n",
    "plt.ylabel('Number_of_people]', fontsize = 10) \n",
    "plt.grid()\n",
    "plt.show()"
   ]
  },
  {
   "cell_type": "markdown",
   "metadata": {},
   "source": [
    "Q5k. Place the independent variables in X. Place the dependent variable (strain_class) in Y. Then split the dataset into training and testing parts (80% training; 20% testing).                       [3 marks]"
   ]
  },
  {
   "cell_type": "code",
   "execution_count": 19,
   "metadata": {},
   "outputs": [],
   "source": [
    "# Fitting the linear model\n",
    "x = df.drop([\"Strain_Class\"],axis=1)\n",
    "Y = df.Strain_Class\n",
    "sc = ss()\n",
    "X = sc.fit_transform(x)\n",
    "X_train, X_test, y_train, y_test = train_test_split(X, Y,random_state = 0,test_size=0.20)"
   ]
  },
  {
   "cell_type": "markdown",
   "metadata": {},
   "source": [
    "Q5l. Utilize RandomForest and kNN to build the classification model. Based on F-measure/F1-score and Accuracy determine which model is better.\t\t\t\t\t\t\t\t                                                    [4+4+2=10]"
   ]
  },
  {
   "cell_type": "markdown",
   "metadata": {
    "collapsed": true
   },
   "source": [
    "KNN"
   ]
  },
  {
   "cell_type": "code",
   "execution_count": 20,
   "metadata": {},
   "outputs": [
    {
     "data": {
      "text/plain": [
       "KNeighborsClassifier(n_neighbors=4)"
      ]
     },
     "execution_count": 20,
     "metadata": {},
     "output_type": "execute_result"
    }
   ],
   "source": [
    "Learn = KNeighborsClassifier(n_neighbors=4)\n",
    "Learn.fit(X_train, y_train)"
   ]
  },
  {
   "cell_type": "code",
   "execution_count": 21,
   "metadata": {},
   "outputs": [
    {
     "name": "stdout",
     "output_type": "stream",
     "text": [
      "Accuracy KNN:  20.51282051282051\n"
     ]
    }
   ],
   "source": [
    "print(\"Accuracy KNN: \", Learn.score(X_test, y_test)*100)"
   ]
  },
  {
   "cell_type": "markdown",
   "metadata": {},
   "source": [
    "Random Forest"
   ]
  },
  {
   "cell_type": "code",
   "execution_count": 24,
   "metadata": {},
   "outputs": [
    {
     "data": {
      "text/plain": [
       "RandomForestClassifier(n_estimators=4)"
      ]
     },
     "execution_count": 24,
     "metadata": {},
     "output_type": "execute_result"
    }
   ],
   "source": [
    "cl_random=RandomForestClassifier(n_estimators=4)\n",
    "cl_random.fit(X_train,y_train)"
   ]
  },
  {
   "cell_type": "code",
   "execution_count": 25,
   "metadata": {},
   "outputs": [
    {
     "name": "stdout",
     "output_type": "stream",
     "text": [
      "Accuracy Random Forest:  30.76923076923077\n"
     ]
    }
   ],
   "source": [
    "print(\"Accuracy Random Forest: \",cl_random.score(X_test, y_test)*100)\n"
   ]
  },
  {
   "cell_type": "code",
   "execution_count": 26,
   "metadata": {},
   "outputs": [],
   "source": [
    "y_pred = cl_random.predict(X_test)"
   ]
  },
  {
   "cell_type": "code",
   "execution_count": 27,
   "metadata": {},
   "outputs": [
    {
     "name": "stdout",
     "output_type": "stream",
     "text": [
      "[[2 2 3 3]\n",
      " [1 1 2 3]\n",
      " [1 3 6 4]\n",
      " [4 1 0 3]]\n"
     ]
    }
   ],
   "source": [
    "from sklearn.metrics import confusion_matrix\n",
    "from sklearn import metrics\n",
    "cm = metrics.confusion_matrix(y_test, y_pred)\n",
    "print (cm)"
   ]
  },
  {
   "cell_type": "code",
   "execution_count": 28,
   "metadata": {},
   "outputs": [
    {
     "name": "stdout",
     "output_type": "stream",
     "text": [
      "              precision    recall  f1-score   support\n",
      "\n",
      "           1       0.25      0.20      0.22        10\n",
      "           2       0.14      0.14      0.14         7\n",
      "           3       0.55      0.43      0.48        14\n",
      "           4       0.23      0.38      0.29         8\n",
      "\n",
      "    accuracy                           0.31        39\n",
      "   macro avg       0.29      0.29      0.28        39\n",
      "weighted avg       0.33      0.31      0.31        39\n",
      "\n"
     ]
    }
   ],
   "source": [
    "print(classification_report(y_test, y_pred))"
   ]
  },
  {
   "cell_type": "markdown",
   "metadata": {},
   "source": [
    "As we can see both KNN and Random Forest at n=4 have same Accuracy thus we cannot conclude which one is superior to the other/."
   ]
  },
  {
   "cell_type": "markdown",
   "metadata": {},
   "source": [
    "Q5m. Taking the last digit of your roll number (If your roll number is '025001', the last digit is 1. If the last digit value is greater than 5, then consider the value as 4) as the number of components, do a Principal Component Analysis (PCA) on the same data. Create a RandomForestClassifier on the transformed data and check if there is any improvement of performance.                           [5 marks]"
   ]
  },
  {
   "cell_type": "code",
   "execution_count": 29,
   "metadata": {},
   "outputs": [
    {
     "data": {
      "text/plain": [
       "((194, 5), (194, 4))"
      ]
     },
     "execution_count": 29,
     "metadata": {},
     "output_type": "execute_result"
    }
   ],
   "source": [
    "from sklearn.decomposition import PCA\n",
    "model=PCA(n_components=4)\n",
    "\n",
    "#It finds the 2 principle componenets.\n",
    "model.fit(X)\n",
    "#reducing 30 features to 2\n",
    "#Transforms the data into 2 principle components\n",
    "X_PCA=model.transform(X)\n",
    "X.shape,X_PCA.shape"
   ]
  },
  {
   "cell_type": "code",
   "execution_count": null,
   "metadata": {},
   "outputs": [],
   "source": []
  }
 ],
 "metadata": {
  "kernelspec": {
   "display_name": "Python 3 (ipykernel)",
   "language": "python",
   "name": "python3"
  },
  "language_info": {
   "codemirror_mode": {
    "name": "ipython",
    "version": 3
   },
   "file_extension": ".py",
   "mimetype": "text/x-python",
   "name": "python",
   "nbconvert_exporter": "python",
   "pygments_lexer": "ipython3",
   "version": "3.9.7"
  }
 },
 "nbformat": 4,
 "nbformat_minor": 2
}
